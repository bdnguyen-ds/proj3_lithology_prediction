{
 "cells": [
  {
   "cell_type": "code",
   "execution_count": 1,
   "metadata": {},
   "outputs": [],
   "source": [
    "import numpy as np\n",
    "import pandas as pd\n",
    "\n",
    "from bokeh.plotting import figure, output_file, show, curdoc\n",
    "from bokeh.models import ColumnDataSource, Grid, Line, Plot, CrosshairTool\n",
    "from bokeh.layouts import gridplot"
   ]
  },
  {
   "cell_type": "code",
   "execution_count": 2,
   "metadata": {},
   "outputs": [],
   "source": [
    "filename = '../data/training_data.csv'\n",
    "training_data = pd.read_csv(filename)"
   ]
  },
  {
   "cell_type": "code",
   "execution_count": 3,
   "metadata": {},
   "outputs": [],
   "source": [
    "def make_interactive_plots(wellname):\n",
    "    output_file(wellname+'_interactive_well.html')\n",
    "    \n",
    "    line_colors = ['red', 'blue', 'seagreen', 'orangered', 'black']\n",
    "    x_labels = ['GAMMA RAY (API)', 'Log10(RESISTIVITY) (ohm-m)', 'dPHI (%)', 'POROSITY_ND (%)', 'PHOTOELECTRIC EFFECT']\n",
    "    \n",
    "    # get info for specific training well:\n",
    "    df = training_data[training_data['Well Name'] == wellname]\n",
    "    \n",
    "    datasource = ColumnDataSource({'x1':np.array(df.GR),\n",
    "                                   'x2':np.array(df.ILD_log10),\n",
    "                                   'x3':np.array(df.DeltaPHI),\n",
    "                                   'x4':np.array(df.PHIND),\n",
    "                                   'x5':np.array(df.PE),\n",
    "                                   'y' :np.array(df.Depth)})\n",
    "    \n",
    "    # set a template for subsequent linked plots:\n",
    "    fig0 = figure(x_axis_location=\"above\")\n",
    "    fig0.y_range.flipped = True\n",
    "    fig0.line('x1', 'y', line_width = 2, line_color = 'red', source=datasource)\n",
    "    \n",
    "    # Info shown on mouse-over using HoverTool:\n",
    "    TOOLTIPS = [(\"index\", \"$index\"),\n",
    "                (\"(x,y)\", \"($x, $y)\")]\n",
    "    \n",
    "    # all y_range's set to pre-defined figure for linked behavior:\n",
    "    plots = [figure(x_axis_location=\"above\", y_range=fig0.y_range, \n",
    "                    x_axis_label = x_labels[i], y_axis_label = 'DEPTH (ft)', tooltips=TOOLTIPS) for i in range(5)]\n",
    "    [plot.line('x'+str(i+1), 'y', color=line_colors[i], line_width=2, source=datasource) for i,plot in enumerate(plots)]\n",
    "    \n",
    "    # add a cross-hair tool for more specific viewing:\n",
    "    for i,plot in enumerate(plots):\n",
    "        plot.add_tools(CrosshairTool(dimensions=\"both\"))\n",
    "    \n",
    "    show(gridplot(children=[plot for plot in plots], ncols=5, \n",
    "                  plot_height=1000, plot_width=250, sizing_mode = 'stretch_height', toolbar_location='right'))"
   ]
  },
  {
   "cell_type": "code",
   "execution_count": 4,
   "metadata": {},
   "outputs": [],
   "source": [
    "# generate interactive plots per training well:\n",
    "well_names = ['CHURCHMAN BIBLE', 'CROSS H CATTLE', 'LUKE G U', 'NEWBY', 'NOLAN', 'SHRIMPLIN']\n",
    "\n",
    "for well in well_names:\n",
    "    make_interactive_plots(well)"
   ]
  },
  {
   "cell_type": "code",
   "execution_count": null,
   "metadata": {},
   "outputs": [],
   "source": []
  }
 ],
 "metadata": {
  "kernelspec": {
   "display_name": "Python 3",
   "language": "python",
   "name": "python3"
  },
  "language_info": {
   "codemirror_mode": {
    "name": "ipython",
    "version": 3
   },
   "file_extension": ".py",
   "mimetype": "text/x-python",
   "name": "python",
   "nbconvert_exporter": "python",
   "pygments_lexer": "ipython3",
   "version": "3.7.9"
  }
 },
 "nbformat": 4,
 "nbformat_minor": 4
}
